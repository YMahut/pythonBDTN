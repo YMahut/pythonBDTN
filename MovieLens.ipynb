{
 "cells": [
  {
   "cell_type": "code",
   "execution_count": 130,
   "metadata": {
    "collapsed": false
   },
   "outputs": [],
   "source": [
    "#Import de la librairie\n",
    "import csv\n",
    "\n",
    "#Ouverture du fichier de donnée\n",
    "#On utilise une liste de dict pour structurer les données\n",
    "#On ajoute le nom de colonne comme clé de dictionnaire\n",
    "with open('C:\\\\Users\\\\Aloïs\\\\workspace\\\\u.data') as csvfile:\n",
    "    colonnes = ['Utilisateurs', 'Films','Notes','TimeStamp']\n",
    "    moviedata = list(csv.DictReader(csvfile,delimiter='\\t',fieldnames=colonnes))        \n"
   ]
  },
  {
   "cell_type": "code",
   "execution_count": 119,
   "metadata": {
    "collapsed": false
   },
   "outputs": [
    {
     "data": {
      "text/plain": [
       "{'Item': '302', 'Notes': '3', 'TimeStamp': '891717742', 'Utilisateurs': '186'}"
      ]
     },
     "execution_count": 119,
     "metadata": {},
     "output_type": "execute_result"
    }
   ],
   "source": [
    "moviedata[1] \n",
    "#J'affiche la première ligne pour vérification (avec clé)\n",
    "#Chaque ligne est un dictionnaire"
   ]
  },
  {
   "cell_type": "code",
   "execution_count": 129,
   "metadata": {
    "collapsed": false
   },
   "outputs": [
    {
     "name": "stdout",
     "output_type": "stream",
     "text": [
      "Pour la note 1 il y a 6110 votes sur tout les films confondus\n",
      "Pour la note 2 il y a 11370 votes sur tout les films confondus\n",
      "Pour la note 3 il y a 27145 votes sur tout les films confondus\n",
      "Pour la note 4 il y a 34174 votes sur tout les films confondus\n",
      "Pour la note 5 il y a 21201 votes sur tout les films confondus\n"
     ]
    }
   ],
   "source": [
    "#On ajoute dans listeNotes l'ensemble des notes que l'on transforme avant de char à int\n",
    "listeNotes = [int(col['Notes']) for col in moviedata]\n",
    "#Le range est exclusif donc pour aller de 1 à 5 il faut faire range(1,6)\n",
    "for i in range(1,6):\n",
    "    #On affiche pour chaque valeur du range (de 1 à 6) le nombre de vote qu'ils ont eu dans la data\n",
    "    #Le count va cherche dans la listeNotes le nombre de fois qu'il apparait\n",
    "    print(\"Pour la note %s il y a %s votes sur tout les films confondus\" %(i,listeNotes.count(i)))"
   ]
  }
 ],
 "metadata": {
  "anaconda-cloud": {},
  "kernelspec": {
   "display_name": "Python [default]",
   "language": "python",
   "name": "python3"
  },
  "language_info": {
   "codemirror_mode": {
    "name": "ipython",
    "version": 3
   },
   "file_extension": ".py",
   "mimetype": "text/x-python",
   "name": "python",
   "nbconvert_exporter": "python",
   "pygments_lexer": "ipython3",
   "version": "3.5.2"
  }
 },
 "nbformat": 4,
 "nbformat_minor": 1
}
