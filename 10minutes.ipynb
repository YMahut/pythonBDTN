{
 "cells": [
  {
   "cell_type": "markdown",
   "metadata": {
    "nbpresent": {
     "id": "1c1be860-1c7d-49b3-8834-5c9f4729cd99"
    }
   },
   "source": [
    "# Les commandes de base"
   ]
  },
  {
   "cell_type": "markdown",
   "metadata": {
    "nbpresent": {
     "id": "b1e0cff1-99f1-4c0f-8b06-32f950ea703a"
    }
   },
   "source": [
    "* Aide, Méthodes de l'objet, Documentation"
   ]
  },
  {
   "cell_type": "code",
   "execution_count": 6,
   "metadata": {
    "collapsed": false,
    "nbpresent": {
     "id": "7891a56c-0ebf-439e-a73c-3ce97b7db0fd"
    }
   },
   "outputs": [
    {
     "name": "stdout",
     "output_type": "stream",
     "text": [
      "Help on int object:\n",
      "\n",
      "class int(object)\n",
      " |  int(x=0) -> integer\n",
      " |  int(x, base=10) -> integer\n",
      " |  \n",
      " |  Convert a number or string to an integer, or return 0 if no arguments\n",
      " |  are given.  If x is a number, return x.__int__().  For floating point\n",
      " |  numbers, this truncates towards zero.\n",
      " |  \n",
      " |  If x is not a number or if base is given, then x must be a string,\n",
      " |  bytes, or bytearray instance representing an integer literal in the\n",
      " |  given base.  The literal can be preceded by '+' or '-' and be surrounded\n",
      " |  by whitespace.  The base defaults to 10.  Valid bases are 0 and 2-36.\n",
      " |  Base 0 means to interpret the base from the string as an integer literal.\n",
      " |  >>> int('0b100', base=0)\n",
      " |  4\n",
      " |  \n",
      " |  Methods defined here:\n",
      " |  \n",
      " |  __abs__(self, /)\n",
      " |      abs(self)\n",
      " |  \n",
      " |  __add__(self, value, /)\n",
      " |      Return self+value.\n",
      " |  \n",
      " |  __and__(self, value, /)\n",
      " |      Return self&value.\n",
      " |  \n",
      " |  __bool__(self, /)\n",
      " |      self != 0\n",
      " |  \n",
      " |  __ceil__(...)\n",
      " |      Ceiling of an Integral returns itself.\n",
      " |  \n",
      " |  __divmod__(self, value, /)\n",
      " |      Return divmod(self, value).\n",
      " |  \n",
      " |  __eq__(self, value, /)\n",
      " |      Return self==value.\n",
      " |  \n",
      " |  __float__(self, /)\n",
      " |      float(self)\n",
      " |  \n",
      " |  __floor__(...)\n",
      " |      Flooring an Integral returns itself.\n",
      " |  \n",
      " |  __floordiv__(self, value, /)\n",
      " |      Return self//value.\n",
      " |  \n",
      " |  __format__(...)\n",
      " |      default object formatter\n",
      " |  \n",
      " |  __ge__(self, value, /)\n",
      " |      Return self>=value.\n",
      " |  \n",
      " |  __getattribute__(self, name, /)\n",
      " |      Return getattr(self, name).\n",
      " |  \n",
      " |  __getnewargs__(...)\n",
      " |  \n",
      " |  __gt__(self, value, /)\n",
      " |      Return self>value.\n",
      " |  \n",
      " |  __hash__(self, /)\n",
      " |      Return hash(self).\n",
      " |  \n",
      " |  __index__(self, /)\n",
      " |      Return self converted to an integer, if self is suitable for use as an index into a list.\n",
      " |  \n",
      " |  __int__(self, /)\n",
      " |      int(self)\n",
      " |  \n",
      " |  __invert__(self, /)\n",
      " |      ~self\n",
      " |  \n",
      " |  __le__(self, value, /)\n",
      " |      Return self<=value.\n",
      " |  \n",
      " |  __lshift__(self, value, /)\n",
      " |      Return self<<value.\n",
      " |  \n",
      " |  __lt__(self, value, /)\n",
      " |      Return self<value.\n",
      " |  \n",
      " |  __mod__(self, value, /)\n",
      " |      Return self%value.\n",
      " |  \n",
      " |  __mul__(self, value, /)\n",
      " |      Return self*value.\n",
      " |  \n",
      " |  __ne__(self, value, /)\n",
      " |      Return self!=value.\n",
      " |  \n",
      " |  __neg__(self, /)\n",
      " |      -self\n",
      " |  \n",
      " |  __new__(*args, **kwargs) from builtins.type\n",
      " |      Create and return a new object.  See help(type) for accurate signature.\n",
      " |  \n",
      " |  __or__(self, value, /)\n",
      " |      Return self|value.\n",
      " |  \n",
      " |  __pos__(self, /)\n",
      " |      +self\n",
      " |  \n",
      " |  __pow__(self, value, mod=None, /)\n",
      " |      Return pow(self, value, mod).\n",
      " |  \n",
      " |  __radd__(self, value, /)\n",
      " |      Return value+self.\n",
      " |  \n",
      " |  __rand__(self, value, /)\n",
      " |      Return value&self.\n",
      " |  \n",
      " |  __rdivmod__(self, value, /)\n",
      " |      Return divmod(value, self).\n",
      " |  \n",
      " |  __repr__(self, /)\n",
      " |      Return repr(self).\n",
      " |  \n",
      " |  __rfloordiv__(self, value, /)\n",
      " |      Return value//self.\n",
      " |  \n",
      " |  __rlshift__(self, value, /)\n",
      " |      Return value<<self.\n",
      " |  \n",
      " |  __rmod__(self, value, /)\n",
      " |      Return value%self.\n",
      " |  \n",
      " |  __rmul__(self, value, /)\n",
      " |      Return value*self.\n",
      " |  \n",
      " |  __ror__(self, value, /)\n",
      " |      Return value|self.\n",
      " |  \n",
      " |  __round__(...)\n",
      " |      Rounding an Integral returns itself.\n",
      " |      Rounding with an ndigits argument also returns an integer.\n",
      " |  \n",
      " |  __rpow__(self, value, mod=None, /)\n",
      " |      Return pow(value, self, mod).\n",
      " |  \n",
      " |  __rrshift__(self, value, /)\n",
      " |      Return value>>self.\n",
      " |  \n",
      " |  __rshift__(self, value, /)\n",
      " |      Return self>>value.\n",
      " |  \n",
      " |  __rsub__(self, value, /)\n",
      " |      Return value-self.\n",
      " |  \n",
      " |  __rtruediv__(self, value, /)\n",
      " |      Return value/self.\n",
      " |  \n",
      " |  __rxor__(self, value, /)\n",
      " |      Return value^self.\n",
      " |  \n",
      " |  __sizeof__(...)\n",
      " |      Returns size in memory, in bytes\n",
      " |  \n",
      " |  __str__(self, /)\n",
      " |      Return str(self).\n",
      " |  \n",
      " |  __sub__(self, value, /)\n",
      " |      Return self-value.\n",
      " |  \n",
      " |  __truediv__(self, value, /)\n",
      " |      Return self/value.\n",
      " |  \n",
      " |  __trunc__(...)\n",
      " |      Truncating an Integral returns itself.\n",
      " |  \n",
      " |  __xor__(self, value, /)\n",
      " |      Return self^value.\n",
      " |  \n",
      " |  bit_length(...)\n",
      " |      int.bit_length() -> int\n",
      " |      \n",
      " |      Number of bits necessary to represent self in binary.\n",
      " |      >>> bin(37)\n",
      " |      '0b100101'\n",
      " |      >>> (37).bit_length()\n",
      " |      6\n",
      " |  \n",
      " |  conjugate(...)\n",
      " |      Returns self, the complex conjugate of any int.\n",
      " |  \n",
      " |  from_bytes(...) from builtins.type\n",
      " |      int.from_bytes(bytes, byteorder, *, signed=False) -> int\n",
      " |      \n",
      " |      Return the integer represented by the given array of bytes.\n",
      " |      \n",
      " |      The bytes argument must be a bytes-like object (e.g. bytes or bytearray).\n",
      " |      \n",
      " |      The byteorder argument determines the byte order used to represent the\n",
      " |      integer.  If byteorder is 'big', the most significant byte is at the\n",
      " |      beginning of the byte array.  If byteorder is 'little', the most\n",
      " |      significant byte is at the end of the byte array.  To request the native\n",
      " |      byte order of the host system, use `sys.byteorder' as the byte order value.\n",
      " |      \n",
      " |      The signed keyword-only argument indicates whether two's complement is\n",
      " |      used to represent the integer.\n",
      " |  \n",
      " |  to_bytes(...)\n",
      " |      int.to_bytes(length, byteorder, *, signed=False) -> bytes\n",
      " |      \n",
      " |      Return an array of bytes representing an integer.\n",
      " |      \n",
      " |      The integer is represented using length bytes.  An OverflowError is\n",
      " |      raised if the integer is not representable with the given number of\n",
      " |      bytes.\n",
      " |      \n",
      " |      The byteorder argument determines the byte order used to represent the\n",
      " |      integer.  If byteorder is 'big', the most significant byte is at the\n",
      " |      beginning of the byte array.  If byteorder is 'little', the most\n",
      " |      significant byte is at the end of the byte array.  To request the native\n",
      " |      byte order of the host system, use `sys.byteorder' as the byte order value.\n",
      " |      \n",
      " |      The signed keyword-only argument determines whether two's complement is\n",
      " |      used to represent the integer.  If signed is False and a negative integer\n",
      " |      is given, an OverflowError is raised.\n",
      " |  \n",
      " |  ----------------------------------------------------------------------\n",
      " |  Data descriptors defined here:\n",
      " |  \n",
      " |  denominator\n",
      " |      the denominator of a rational number in lowest terms\n",
      " |  \n",
      " |  imag\n",
      " |      the imaginary part of a complex number\n",
      " |  \n",
      " |  numerator\n",
      " |      the numerator of a rational number in lowest terms\n",
      " |  \n",
      " |  real\n",
      " |      the real part of a complex number\n",
      "\n"
     ]
    }
   ],
   "source": [
    "help(5)"
   ]
  },
  {
   "cell_type": "code",
   "execution_count": 7,
   "metadata": {
    "collapsed": false,
    "nbpresent": {
     "id": "9f0fdf15-b2b2-4c09-ac90-e0d91c87631e"
    },
    "scrolled": true
   },
   "outputs": [
    {
     "data": {
      "text/plain": [
       "['__abs__',\n",
       " '__add__',\n",
       " '__and__',\n",
       " '__bool__',\n",
       " '__ceil__',\n",
       " '__class__',\n",
       " '__delattr__',\n",
       " '__dir__',\n",
       " '__divmod__',\n",
       " '__doc__',\n",
       " '__eq__',\n",
       " '__float__',\n",
       " '__floor__',\n",
       " '__floordiv__',\n",
       " '__format__',\n",
       " '__ge__',\n",
       " '__getattribute__',\n",
       " '__getnewargs__',\n",
       " '__gt__',\n",
       " '__hash__',\n",
       " '__index__',\n",
       " '__init__',\n",
       " '__int__',\n",
       " '__invert__',\n",
       " '__le__',\n",
       " '__lshift__',\n",
       " '__lt__',\n",
       " '__mod__',\n",
       " '__mul__',\n",
       " '__ne__',\n",
       " '__neg__',\n",
       " '__new__',\n",
       " '__or__',\n",
       " '__pos__',\n",
       " '__pow__',\n",
       " '__radd__',\n",
       " '__rand__',\n",
       " '__rdivmod__',\n",
       " '__reduce__',\n",
       " '__reduce_ex__',\n",
       " '__repr__',\n",
       " '__rfloordiv__',\n",
       " '__rlshift__',\n",
       " '__rmod__',\n",
       " '__rmul__',\n",
       " '__ror__',\n",
       " '__round__',\n",
       " '__rpow__',\n",
       " '__rrshift__',\n",
       " '__rshift__',\n",
       " '__rsub__',\n",
       " '__rtruediv__',\n",
       " '__rxor__',\n",
       " '__setattr__',\n",
       " '__sizeof__',\n",
       " '__str__',\n",
       " '__sub__',\n",
       " '__subclasshook__',\n",
       " '__truediv__',\n",
       " '__trunc__',\n",
       " '__xor__',\n",
       " 'bit_length',\n",
       " 'conjugate',\n",
       " 'denominator',\n",
       " 'from_bytes',\n",
       " 'imag',\n",
       " 'numerator',\n",
       " 'real',\n",
       " 'to_bytes']"
      ]
     },
     "execution_count": 7,
     "metadata": {},
     "output_type": "execute_result"
    }
   ],
   "source": [
    "dir(5)"
   ]
  },
  {
   "cell_type": "code",
   "execution_count": 11,
   "metadata": {
    "collapsed": false,
    "nbpresent": {
     "id": "e2a19b84-0258-484f-b820-0e45619c796e"
    }
   },
   "outputs": [
    {
     "data": {
      "text/plain": [
       "'Return the absolute value of the argument.'"
      ]
     },
     "execution_count": 11,
     "metadata": {},
     "output_type": "execute_result"
    }
   ],
   "source": [
    "abs.__doc__"
   ]
  },
  {
   "cell_type": "markdown",
   "metadata": {
    "nbpresent": {
     "id": "741ab6cc-36dc-4e55-83de-d230942d5e88"
    }
   },
   "source": [
    "# Syntaxe"
   ]
  },
  {
   "cell_type": "code",
   "execution_count": 22,
   "metadata": {
    "collapsed": false,
    "nbpresent": {
     "id": "16960863-8dbe-4598-abed-3f0118410103"
    }
   },
   "outputs": [
    {
     "data": {
      "text/plain": [
       "5"
      ]
     },
     "execution_count": 22,
     "metadata": {},
     "output_type": "execute_result"
    }
   ],
   "source": [
    "maVariable = 3 \n",
    "maVariable += 2\n",
    "maVariable\n",
    "# Sensible à la casse"
   ]
  },
  {
   "cell_type": "code",
   "execution_count": 21,
   "metadata": {
    "collapsed": false,
    "nbpresent": {
     "id": "d403ae1b-8744-4214-a063-c079539da67e"
    }
   },
   "outputs": [
    {
     "data": {
      "text/plain": [
       "4"
      ]
     },
     "execution_count": 21,
     "metadata": {},
     "output_type": "execute_result"
    }
   ],
   "source": [
    "maVariable -= 1\n",
    "maVariable "
   ]
  },
  {
   "cell_type": "code",
   "execution_count": 24,
   "metadata": {
    "collapsed": false,
    "nbpresent": {
     "id": "328b8ef3-1830-42da-b7b2-00c82dcfbae8"
    }
   },
   "outputs": [
    {
     "name": "stdout",
     "output_type": "stream",
     "text": [
      "Hello World.\n"
     ]
    }
   ],
   "source": [
    "\"\"\"Commentaire multi lignes\n",
    "Les lignes qui suivent concatènent deux string\"\"\"\n",
    "monString = \"Hello\"\n",
    "monString += \" World.\"\n",
    "print(monString)"
   ]
  },
  {
   "cell_type": "code",
   "execution_count": 32,
   "metadata": {
    "collapsed": false,
    "nbpresent": {
     "id": "ca319bb9-ec96-412f-82cf-7ca42f48aef0"
    }
   },
   "outputs": [
    {
     "name": "stdout",
     "output_type": "stream",
     "text": [
      "Valeur de mon string :  5\n",
      "Valeur de ma variable numérique : Hello World.\n",
      "Valeur de mon string :  Hello World.\n",
      "Valeur de ma variable numérique : 5\n"
     ]
    }
   ],
   "source": [
    "# Intervertir les variables en une ligne\n",
    "# Sans violer les contraintes de typage fort \n",
    "# car les valeurs ne sont pas affectées, \n",
    "# mais les nouveaux objets sont liés aux anciens noms.\n",
    "print(\"Valeur de mon string : \" , monString)\n",
    "print(\"Valeur de ma variable numérique :\" , maVariable)\n",
    "\n",
    "maVariable, monString = monString, maVariable\n",
    "\n",
    "print(\"Valeur de mon string : \" , monString)\n",
    "print(\"Valeur de ma variable numérique :\" , maVariable)"
   ]
  },
  {
   "cell_type": "markdown",
   "metadata": {
    "nbpresent": {
     "id": "17a23970-cd41-4a41-87f5-39c3de6d41ca"
    }
   },
   "source": [
    "* Les types de données (lists, tuples, dictionnaires, sets (uniquement à partir de python 2.5) )"
   ]
  },
  {
   "cell_type": "markdown",
   "metadata": {},
   "source": [
    "    * Les lists sont comme des tableaux à une dimension\n",
    "    * Les dictionnaires sont commme des tableaux associatifs\n",
    "    * Les tuples sont des tableaux à une dimension aux données qui ne changent jamais\n"
   ]
  },
  {
   "cell_type": "code",
   "execution_count": 36,
   "metadata": {
    "collapsed": false
   },
   "outputs": [
    {
     "name": "stdout",
     "output_type": "stream",
     "text": [
      "3\n"
     ]
    }
   ],
   "source": [
    "echantillon = [1, [\"uneAutre\", \"liste\"], (\"a\", \"tuple\")]\n",
    "\n",
    "maListe = [\"Liste item 1\", 2, 3.14]\n",
    "maListe[0] = \"Liste item 1 encore\" # On change l'item\n",
    "maListe[-1] = 3.21 #Ici, on se réfère au dernier item\n",
    "\n",
    "monDictionnaire = {\"clé 1\": \"Valeur 1\", 2: 3, \"pi\" : 3.14}\n",
    "monDictionnaire[\"pi\"] = 3.15 # On change une valeur dans notre dictionnaire\n",
    "\n",
    "monTuple = (1, 2, 3)\n",
    "maFonction = len \n",
    "\n",
    "print(maFonction(maListe))"
   ]
  },
  {
   "cell_type": "markdown",
   "metadata": {},
   "source": [
    "On peut accéder au plage de tableau grace aux deux points \":\"\n",
    "Laisser l'index de départ vide suppose qu'on selectionne le premier élément, dde même pour le dernier. Les indices négatifs comptent à partir du dernier élément."
   ]
  },
  {
   "cell_type": "code",
   "execution_count": 42,
   "metadata": {
    "collapsed": false
   },
   "outputs": [
    {
     "name": "stdout",
     "output_type": "stream",
     "text": [
      "['Liste item 1', 2, 3.14]\n",
      "['Liste item 1', 2]\n",
      "['Liste item 1', 2]\n",
      "[2, 3.14]\n",
      "['Liste item 1', 3.14]\n"
     ]
    }
   ],
   "source": [
    "maListe = [\"Liste item 1\", 2, 3.14]\n",
    "print(maListe[:])\n",
    "print(maListe[:2])\n",
    "print(maListe[-3:-1])\n",
    "print(maListe[1:])\n",
    "# Il est possible de choisir l'incrémentation d'affichage avec un troisième paramètre\n",
    "print(maListe[::2])\n"
   ]
  },
  {
   "cell_type": "markdown",
   "metadata": {},
   "source": [
    "# Les chaînes de caractères\n",
    "\n",
    "Les chaines peuvent utiliser des guillemets simples ou double. Les guillemets peuvent s'imbriquer. Les chaines de caractères multilignes sont bornées par des triples guillemets. Python supporte l'Unicode, en utilisant la syntaxe u \"Ceci est une chaîne unicode\".Pour utiliser un string et une valeur on utilise le % (Modulo) et un tuple. Chaque % est remplacé par un élément du tuple, de gauche à droite, et vous pouvez également utiliser des substitutions de dictionnaire.\n",
    "\n",
    "Nb: Le code qui suit échoue car la class \"myclass\" n'est pas encore définie"
   ]
  },
  {
   "cell_type": "code",
   "execution_count": 60,
   "metadata": {
    "collapsed": false
   },
   "outputs": [
    {
     "ename": "NameError",
     "evalue": "name 'myclass' is not defined",
     "output_type": "error",
     "traceback": [
      "\u001b[0;31m---------------------------------------------------------------------------\u001b[0m",
      "\u001b[0;31mNameError\u001b[0m                                 Traceback (most recent call last)",
      "\u001b[0;32m<ipython-input-60-e59913f30b79>\u001b[0m in \u001b[0;36m<module>\u001b[0;34m()\u001b[0m\n\u001b[0;32m----> 1\u001b[0;31m \u001b[0mprint\u001b[0m\u001b[1;33m(\u001b[0m \u001b[1;34m\"Nom: %s\\ Nombre: %s\\ String: %s\"\u001b[0m \u001b[1;33m%\u001b[0m \u001b[1;33m(\u001b[0m\u001b[0mmyclass\u001b[0m\u001b[1;33m.\u001b[0m\u001b[0mname\u001b[0m\u001b[1;33m,\u001b[0m \u001b[1;36m3\u001b[0m\u001b[1;33m,\u001b[0m \u001b[1;36m3\u001b[0m \u001b[1;33m*\u001b[0m \u001b[1;34m\"-\"\u001b[0m\u001b[1;33m)\u001b[0m\u001b[1;33m)\u001b[0m\u001b[1;33m\u001b[0m\u001b[0m\n\u001b[0m",
      "\u001b[0;31mNameError\u001b[0m: name 'myclass' is not defined"
     ]
    }
   ],
   "source": [
    "print( \"Nom: %s\\ Nombre: %s\\ String: %s\" % (myclass.name, 3, 3 * \"-\"))"
   ]
  },
  {
   "cell_type": "code",
   "execution_count": 61,
   "metadata": {
    "collapsed": false
   },
   "outputs": [
    {
     "name": "stdout",
     "output_type": "stream",
     "text": [
      "This is a test.\n"
     ]
    }
   ],
   "source": [
    "strString = \"\"\"C'est une chaîne de \n",
    "caractères multiligne\"\"\"\n",
    "\n",
    "print(\"This %(verb)s a %(noun)s.\" % {\"noun\": \"test\", \"verb\": \"is\"})"
   ]
  },
  {
   "cell_type": "markdown",
   "metadata": {},
   "source": [
    "# Déclaration de contrôle de flux \n",
    "Les instructions de contrôle de flux sont if, for et while. Il n'y a pas de commutateur. Utilisez plutôt if. Utiliser for pour énumérer les membres d'une liste. Pour obtenir une liste de numéros, utilisez la plage (<number>)."
   ]
  },
  {
   "cell_type": "code",
   "execution_count": 4,
   "metadata": {
    "collapsed": false
   },
   "outputs": [
    {
     "name": "stdout",
     "output_type": "stream",
     "text": [
      "range(0, 10)\n",
      "Dunno\n"
     ]
    }
   ],
   "source": [
    "listPlage = range(10)\n",
    "print(listPlage)\n",
    "\n",
    "for nombre in listPlage:\n",
    "    # check si le nombre est l'un des nombres dans \n",
    "    # le tuple \n",
    "    if nombre in (3, 4, 7, 9):\n",
    "        # break permet de terminer un for sans executer la clause \"else\"\n",
    "        break\n",
    "    else:\n",
    "        # Continue démarre la prochaine itération\n",
    "        # de la boucle.\n",
    "        continue\n",
    "else:\n",
    "    # cce else est optionnel et s'execute seulement si la boucle ne sort pas par un break\n",
    "    pass # Ne fait rien\n",
    "if listPlage[1] == 2:\n",
    "    print(\"Le deuxième item est 2\")\n",
    "elif listPlage[1] == 3:\n",
    "    print(\"Le deuxième item est 2\")\n",
    "else:\n",
    "    print(\"Dunno\")\n",
    "\n",
    "#while listPlage[1] ==1:\n",
    "#   pass"
   ]
  },
  {
   "cell_type": "markdown",
   "metadata": {},
   "source": [
    "# Les fonctions\n",
    "\n",
    "Les fonctions sont déclarées avec le mot-clé \"def\". Les arguments optionnels sont définis dans la déclaration de fonction après les arguments obligatoires en étant affectés à une valeur par défaut. Pour les arguments nommés, le nom de l'argument est affecté d'une valeur. Les fonctions peuvent retourner un tuple. Les fonctions Lambda sont des fonctions ad hoc qui sont composées d'une seule instruction. Les paramètres sont transmis par référence, mais les types immuables (tuples, ints, chaînes, etc) ne peuvent pas être modifiés. Cela est dû au fait que seul l'emplacement de mémoire de l'élément est passé, et que la liaison d'un autre objet à une variable ignore l'ancien, les types immuables sont remplacés"
   ]
  },
  {
   "cell_type": "code",
   "execution_count": 5,
   "metadata": {
    "collapsed": false
   },
   "outputs": [
    {
     "name": "stdout",
     "output_type": "stream",
     "text": [
      "2\n"
     ]
    }
   ],
   "source": [
    "# Même chose que def funcvar(x): return x+1\n",
    "funcvar = lambda x: x + 1\n",
    "print(funcvar(1))\n",
    "\n",
    "def passing_example(a_list, an_int=2, a_string=\"Un string par défaut\"):\n",
    "    a_list.append(\"Un nouvel item\")\n",
    "    an_int = 4\n",
    "    return a_list, an_int, a_string"
   ]
  },
  {
   "cell_type": "code",
   "execution_count": 6,
   "metadata": {
    "collapsed": false
   },
   "outputs": [
    {
     "name": "stdout",
     "output_type": "stream",
     "text": [
      "([1, 2, 3, 'Un nouvel item'], 4, 'Un string par défaut')\n"
     ]
    },
    {
     "data": {
      "text/plain": [
       "10"
      ]
     },
     "execution_count": 6,
     "metadata": {},
     "output_type": "execute_result"
    }
   ],
   "source": [
    "my_list = [1, 2, 3]\n",
    "my_int = 10\n",
    "print(passing_example(my_list, my_int))\n",
    "my_list\n",
    "my_int"
   ]
  },
  {
   "cell_type": "markdown",
   "metadata": {},
   "source": [
    "# Les classes\n",
    "\n",
    "Python prend en charge une forme limitée d'héritage multiple dans les classes. Les variables et les méthodes privées peuvent être déclarées (par convention, cela n'est pas imposé par la langue) en ajoutant au moins deux caractères de soulignement et au plus un caractère de fin (par exemple \"\\_\\_spam\"). Nous pouvons également lier des noms arbitraires aux instances de classe."
   ]
  },
  {
   "cell_type": "code",
   "execution_count": 10,
   "metadata": {
    "collapsed": false
   },
   "outputs": [
    {
     "data": {
      "text/plain": [
       "10"
      ]
     },
     "execution_count": 10,
     "metadata": {},
     "output_type": "execute_result"
    }
   ],
   "source": [
    "class MaClass(object):\n",
    "    common = 10\n",
    "    def __init__(self):\n",
    "        self.maVariable = 3\n",
    "    def maFonction(self, arg1, arg2):\n",
    "        return self.maVariable\n",
    "    \n",
    "instanceDeMaClasse = MaClass()\n",
    "instanceDeMaClasse.maFonction(1, 2)\n",
    "\n",
    "# Cette variable est partagée par toutes les instances\n",
    "instanceDeMaClasse2 = MaClass()\n",
    "instanceDeMaClasse.common\n",
    "instanceDeMaClasse2.common\n",
    "\n"
   ]
  }
 ],
 "metadata": {
  "kernelspec": {
   "display_name": "Python [default]",
   "language": "python",
   "name": "python3"
  },
  "language_info": {
   "codemirror_mode": {
    "name": "ipython",
    "version": 3
   },
   "file_extension": ".py",
   "mimetype": "text/x-python",
   "name": "python",
   "nbconvert_exporter": "python",
   "pygments_lexer": "ipython3",
   "version": "3.5.2"
  },
  "nbpresent": {
   "slides": {
    "04944ed7-7a38-4ac4-b068-d142596d5389": {
     "id": "04944ed7-7a38-4ac4-b068-d142596d5389",
     "prev": "96884f0a-b81a-4d9e-9b6c-ba3bf89ce4d6",
     "regions": {
      "f53470b9-6655-47af-94fa-a9f76ae3f86e": {
       "attrs": {
        "height": 0.8,
        "width": 0.8,
        "x": 0.1,
        "y": 0.1
       },
       "content": {
        "cell": "b003c3b8-61e5-4256-bc1c-f84f3796d6cb",
        "part": "whole"
       },
       "id": "f53470b9-6655-47af-94fa-a9f76ae3f86e"
      }
     }
    },
    "18e97baf-745a-4913-bc92-956c0fca2472": {
     "id": "18e97baf-745a-4913-bc92-956c0fca2472",
     "prev": "d5eea934-dd22-4d4b-9144-49da79bbc229",
     "regions": {
      "9e5f4092-6dc6-4e18-928a-b78cf8baa5c9": {
       "attrs": {
        "height": 0.8,
        "width": 0.8,
        "x": 0.1,
        "y": 0.1
       },
       "content": {
        "cell": "9f0fdf15-b2b2-4c09-ac90-e0d91c87631e",
        "part": "whole"
       },
       "id": "9e5f4092-6dc6-4e18-928a-b78cf8baa5c9"
      }
     }
    },
    "2541e303-6263-40b9-8755-b5bfb9b67ce5": {
     "id": "2541e303-6263-40b9-8755-b5bfb9b67ce5",
     "prev": "65f7a838-bb87-40d5-8281-6b0accb94ba0",
     "regions": {
      "31ef676c-788c-4bba-8a4e-2d007cdf1443": {
       "attrs": {
        "height": 0.8,
        "width": 0.8,
        "x": 0.1,
        "y": 0.1
       },
       "content": {
        "cell": "ca319bb9-ec96-412f-82cf-7ca42f48aef0",
        "part": "whole"
       },
       "id": "31ef676c-788c-4bba-8a4e-2d007cdf1443"
      }
     }
    },
    "2d72ddc9-8059-457a-b9be-63b1702bc4ea": {
     "id": "2d72ddc9-8059-457a-b9be-63b1702bc4ea",
     "prev": "3fa11c2f-2ebe-47a4-93bb-d2ec01843a87",
     "regions": {
      "ee32809a-50dd-4c33-b789-87d2034ca959": {
       "attrs": {
        "height": 0.8,
        "width": 0.8,
        "x": 0.1,
        "y": 0.1
       },
       "content": {
        "cell": "16960863-8dbe-4598-abed-3f0118410103",
        "part": "whole"
       },
       "id": "ee32809a-50dd-4c33-b789-87d2034ca959"
      }
     }
    },
    "3fa11c2f-2ebe-47a4-93bb-d2ec01843a87": {
     "id": "3fa11c2f-2ebe-47a4-93bb-d2ec01843a87",
     "prev": "b569ffaf-47b3-4bfe-bfc0-59dbb7c23dc5",
     "regions": {
      "1e05f87f-1cd1-496f-ae11-0a49921acb50": {
       "attrs": {
        "height": 0.8,
        "width": 0.8,
        "x": 0.1,
        "y": 0.1
       },
       "content": {
        "cell": "741ab6cc-36dc-4e55-83de-d230942d5e88",
        "part": "whole"
       },
       "id": "1e05f87f-1cd1-496f-ae11-0a49921acb50"
      }
     }
    },
    "657fda6d-3eb2-40cf-975a-20b1d179dacc": {
     "id": "657fda6d-3eb2-40cf-975a-20b1d179dacc",
     "prev": "a0225d42-131d-4e72-8acd-24e9616ead92",
     "regions": {
      "93b7ff81-7fc7-4a8b-8714-021ddd322a95": {
       "attrs": {
        "height": 0.8,
        "width": 0.8,
        "x": 0.1,
        "y": 0.1
       },
       "content": {
        "cell": "b1e0cff1-99f1-4c0f-8b06-32f950ea703a",
        "part": "whole"
       },
       "id": "93b7ff81-7fc7-4a8b-8714-021ddd322a95"
      }
     }
    },
    "65f7a838-bb87-40d5-8281-6b0accb94ba0": {
     "id": "65f7a838-bb87-40d5-8281-6b0accb94ba0",
     "prev": "cf81bacb-fede-4cce-b4ea-2920cde3fb51",
     "regions": {
      "5edc3d97-9c43-4098-9325-04efb7ddcbb2": {
       "attrs": {
        "height": 0.8,
        "width": 0.8,
        "x": 0.1,
        "y": 0.1
       },
       "content": {
        "cell": "328b8ef3-1830-42da-b7b2-00c82dcfbae8",
        "part": "whole"
       },
       "id": "5edc3d97-9c43-4098-9325-04efb7ddcbb2"
      }
     }
    },
    "96884f0a-b81a-4d9e-9b6c-ba3bf89ce4d6": {
     "id": "96884f0a-b81a-4d9e-9b6c-ba3bf89ce4d6",
     "prev": "2541e303-6263-40b9-8755-b5bfb9b67ce5",
     "regions": {
      "9e0c5eb8-cade-4c2b-a8d1-34002bb8c5ef": {
       "attrs": {
        "height": 0.8,
        "width": 0.8,
        "x": 0.1,
        "y": 0.1
       },
       "content": {
        "cell": "17a23970-cd41-4a41-87f5-39c3de6d41ca",
        "part": "whole"
       },
       "id": "9e0c5eb8-cade-4c2b-a8d1-34002bb8c5ef"
      }
     }
    },
    "a0225d42-131d-4e72-8acd-24e9616ead92": {
     "id": "a0225d42-131d-4e72-8acd-24e9616ead92",
     "prev": null,
     "regions": {
      "3f15ac2c-f08e-43ba-ad65-8d055fab9db8": {
       "attrs": {
        "height": 0.8,
        "width": 0.8,
        "x": 0.1,
        "y": 0.1
       },
       "content": {
        "cell": "1c1be860-1c7d-49b3-8834-5c9f4729cd99",
        "part": "whole"
       },
       "id": "3f15ac2c-f08e-43ba-ad65-8d055fab9db8"
      }
     }
    },
    "b569ffaf-47b3-4bfe-bfc0-59dbb7c23dc5": {
     "id": "b569ffaf-47b3-4bfe-bfc0-59dbb7c23dc5",
     "prev": "18e97baf-745a-4913-bc92-956c0fca2472",
     "regions": {
      "bf282559-eb6d-4150-a8bc-11be51afafcb": {
       "attrs": {
        "height": 0.8,
        "width": 0.8,
        "x": 0.1,
        "y": 0.1
       },
       "content": {
        "cell": "e2a19b84-0258-484f-b820-0e45619c796e",
        "part": "whole"
       },
       "id": "bf282559-eb6d-4150-a8bc-11be51afafcb"
      }
     }
    },
    "cf81bacb-fede-4cce-b4ea-2920cde3fb51": {
     "id": "cf81bacb-fede-4cce-b4ea-2920cde3fb51",
     "prev": "2d72ddc9-8059-457a-b9be-63b1702bc4ea",
     "regions": {
      "624bcea6-d6b1-4d56-9d3b-8fce863ee7c7": {
       "attrs": {
        "height": 0.8,
        "width": 0.8,
        "x": 0.1,
        "y": 0.1
       },
       "content": {
        "cell": "d403ae1b-8744-4214-a063-c079539da67e",
        "part": "whole"
       },
       "id": "624bcea6-d6b1-4d56-9d3b-8fce863ee7c7"
      }
     }
    },
    "d5eea934-dd22-4d4b-9144-49da79bbc229": {
     "id": "d5eea934-dd22-4d4b-9144-49da79bbc229",
     "prev": "657fda6d-3eb2-40cf-975a-20b1d179dacc",
     "regions": {
      "a1837c52-e294-4f36-86ed-09278f0214b2": {
       "attrs": {
        "height": 0.8,
        "width": 0.8,
        "x": 0.1,
        "y": 0.1
       },
       "content": {
        "cell": "7891a56c-0ebf-439e-a73c-3ce97b7db0fd",
        "part": "whole"
       },
       "id": "a1837c52-e294-4f36-86ed-09278f0214b2"
      }
     }
    }
   },
   "themes": {}
  }
 },
 "nbformat": 4,
 "nbformat_minor": 1
}
