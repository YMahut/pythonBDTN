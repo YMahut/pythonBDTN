{
 "cells": [
  {
   "cell_type": "markdown",
   "metadata": {},
   "source": [
    "Création de la série qui comprend : \n",
    "    - l'index, code de dominante ESIGELEC\n",
    "    - Valeur, nom complet de la dominante \n",
    " "
   ]
  },
  {
   "cell_type": "code",
   "execution_count": 24,
   "metadata": {
    "collapsed": true
   },
   "outputs": [],
   "source": [
    "import pandas as pd\n",
    "import numpy as np\n",
    "import matplotlib.pyplot as plt\n"
   ]
  },
  {
   "cell_type": "code",
   "execution_count": 28,
   "metadata": {
    "collapsed": false
   },
   "outputs": [
    {
     "data": {
      "text/plain": [
       "ASR                    Architecture et sécurité des Réseaux\n",
       "BDTN                                               Big Data\n",
       "IA-IR                          IA : Informatique et réseaux\n",
       "ISN                                   Services du Numérique\n",
       "IF                                        Ingénieur finance\n",
       "ARI                                Automatique et robotique\n",
       "EDD                        Energie et développement durable\n",
       "GET                           Génie électrique et transport\n",
       "IA-DES                 IA : Distribution énergie et signaux\n",
       "MCTGE                         Mécatronique génie électrique\n",
       "ISE-VA    Ingénieurie des sytèmes embarqués Véhicule aut...\n",
       "ISE-OC    Ingénieurie des sytèmes embarqués Objets commu...\n",
       "ISYMED                    Ingénieurie des systèmes médicaux\n",
       "ESAA      Electronique des systèmes pour automobile et a...\n",
       "ICOM                                    Ingénieurie Télécom\n",
       "dtype: object"
      ]
     },
     "execution_count": 28,
     "metadata": {},
     "output_type": "execute_result"
    }
   ],
   "source": [
    "serieDominante = pd.Series(['Architecture et sécurité des Réseaux', \n",
    "                'Big Data', \n",
    "                'IA : Informatique et réseaux', \n",
    "                'Services du Numérique', \n",
    "                'Ingénieur finance', \n",
    "                'Automatique et robotique',\n",
    "                'Energie et développement durable',\n",
    "                'Génie électrique et transport',\n",
    "                'IA : Distribution énergie et signaux', \n",
    "                'Mécatronique génie électrique',\n",
    "                'Ingénieurie des sytèmes embarqués Véhicule autonome',\n",
    "                'Ingénieurie des sytèmes embarqués Objets communicants',\n",
    "                'Ingénieurie des systèmes médicaux',\n",
    "                'Electronique des systèmes pour automobile et aéronautique',\n",
    "                'Ingénieurie Télécom'],index = ['ASR','BDTN', 'IA-IR', 'ISN', 'IF', 'ARI', 'EDD',\n",
    "                           'GET','IA-DES', 'MCTGE', 'ISE-VA', 'ISE-OC', 'ISYMED', \n",
    "                           'ESAA','ICOM'])\n",
    "serieDominante"
   ]
  },
  {
   "cell_type": "markdown",
   "metadata": {},
   "source": [
    "Ajout d'une colonne avec le département auquel chaque dominante appartient"
   ]
  },
  {
   "cell_type": "code",
   "execution_count": 44,
   "metadata": {
    "collapsed": false
   },
   "outputs": [
    {
     "data": {
      "text/html": [
       "<div>\n",
       "<table border=\"1\" class=\"dataframe\">\n",
       "  <thead>\n",
       "    <tr style=\"text-align: right;\">\n",
       "      <th></th>\n",
       "      <th>Dominante</th>\n",
       "      <th>Departement</th>\n",
       "    </tr>\n",
       "  </thead>\n",
       "  <tbody>\n",
       "    <tr>\n",
       "      <th>ASR</th>\n",
       "      <td>Architecture et sécurité des Réseaux</td>\n",
       "      <td>TIC</td>\n",
       "    </tr>\n",
       "    <tr>\n",
       "      <th>BDTN</th>\n",
       "      <td>Big Data</td>\n",
       "      <td>TIC</td>\n",
       "    </tr>\n",
       "    <tr>\n",
       "      <th>IA-IR</th>\n",
       "      <td>IA : Informatique et réseaux</td>\n",
       "      <td>TIC</td>\n",
       "    </tr>\n",
       "    <tr>\n",
       "      <th>ISN</th>\n",
       "      <td>Services du Numérique</td>\n",
       "      <td>TIC</td>\n",
       "    </tr>\n",
       "    <tr>\n",
       "      <th>IF</th>\n",
       "      <td>Ingénieur finance</td>\n",
       "      <td>TIC</td>\n",
       "    </tr>\n",
       "    <tr>\n",
       "      <th>ARI</th>\n",
       "      <td>Automatique et robotique</td>\n",
       "      <td>GEE</td>\n",
       "    </tr>\n",
       "    <tr>\n",
       "      <th>EDD</th>\n",
       "      <td>Energie et développement durable</td>\n",
       "      <td>GEE</td>\n",
       "    </tr>\n",
       "    <tr>\n",
       "      <th>GET</th>\n",
       "      <td>Génie électrique et transport</td>\n",
       "      <td>GEE</td>\n",
       "    </tr>\n",
       "    <tr>\n",
       "      <th>IA-DES</th>\n",
       "      <td>IA : Distribution énergie et signaux</td>\n",
       "      <td>GEE</td>\n",
       "    </tr>\n",
       "    <tr>\n",
       "      <th>MCTGE</th>\n",
       "      <td>Mécatronique génie électrique</td>\n",
       "      <td>SEI</td>\n",
       "    </tr>\n",
       "    <tr>\n",
       "      <th>ISE-VA</th>\n",
       "      <td>Ingénieurie des sytèmes embarqués Véhicule aut...</td>\n",
       "      <td>SEI</td>\n",
       "    </tr>\n",
       "    <tr>\n",
       "      <th>ISE-OC</th>\n",
       "      <td>Ingénieurie des sytèmes embarqués Objets commu...</td>\n",
       "      <td>SEI</td>\n",
       "    </tr>\n",
       "    <tr>\n",
       "      <th>ISYMED</th>\n",
       "      <td>Ingénieurie des systèmes médicaux</td>\n",
       "      <td>SEI</td>\n",
       "    </tr>\n",
       "    <tr>\n",
       "      <th>ESAA</th>\n",
       "      <td>Electronique des systèmes pour automobile et a...</td>\n",
       "      <td>ET</td>\n",
       "    </tr>\n",
       "    <tr>\n",
       "      <th>ICOM</th>\n",
       "      <td>Ingénieurie Télécom</td>\n",
       "      <td>ET</td>\n",
       "    </tr>\n",
       "  </tbody>\n",
       "</table>\n",
       "</div>"
      ],
      "text/plain": [
       "                                                Dominante Departement\n",
       "ASR                  Architecture et sécurité des Réseaux         TIC\n",
       "BDTN                                             Big Data         TIC\n",
       "IA-IR                        IA : Informatique et réseaux         TIC\n",
       "ISN                                 Services du Numérique         TIC\n",
       "IF                                      Ingénieur finance         TIC\n",
       "ARI                              Automatique et robotique         GEE\n",
       "EDD                      Energie et développement durable         GEE\n",
       "GET                         Génie électrique et transport         GEE\n",
       "IA-DES               IA : Distribution énergie et signaux         GEE\n",
       "MCTGE                       Mécatronique génie électrique         SEI\n",
       "ISE-VA  Ingénieurie des sytèmes embarqués Véhicule aut...         SEI\n",
       "ISE-OC  Ingénieurie des sytèmes embarqués Objets commu...         SEI\n",
       "ISYMED                  Ingénieurie des systèmes médicaux         SEI\n",
       "ESAA    Electronique des systèmes pour automobile et a...          ET\n",
       "ICOM                                  Ingénieurie Télécom          ET"
      ]
     },
     "execution_count": 44,
     "metadata": {},
     "output_type": "execute_result"
    }
   ],
   "source": [
    "sdomf = pd.DataFrame({'Dominante': serieDominante})\n",
    "sdomf['Departement'] = (['TIC', 'TIC','TIC','TIC','TIC', 'GEE', 'GEE', 'GEE', 'GEE', 'SEI', 'SEI', 'SEI', 'SEI', 'ET', 'ET'])\n",
    "\n",
    "sdomf"
   ]
  },
  {
   "cell_type": "markdown",
   "metadata": {},
   "source": [
    "Création d'un dataframe contenant le nom, prénom et code de dominante pour chaque membre du ping"
   ]
  },
  {
   "cell_type": "code",
   "execution_count": 47,
   "metadata": {
    "collapsed": false
   },
   "outputs": [
    {
     "data": {
      "text/html": [
       "<div>\n",
       "<table border=\"1\" class=\"dataframe\">\n",
       "  <thead>\n",
       "    <tr style=\"text-align: right;\">\n",
       "      <th></th>\n",
       "      <th>Nom</th>\n",
       "      <th>Prenom</th>\n",
       "      <th>cdeDominante</th>\n",
       "    </tr>\n",
       "  </thead>\n",
       "  <tbody>\n",
       "    <tr>\n",
       "      <th>0</th>\n",
       "      <td>Mahut</td>\n",
       "      <td>Youri</td>\n",
       "      <td>BDTN</td>\n",
       "    </tr>\n",
       "    <tr>\n",
       "      <th>1</th>\n",
       "      <td>Congyi</td>\n",
       "      <td>Shi</td>\n",
       "      <td>ISN</td>\n",
       "    </tr>\n",
       "    <tr>\n",
       "      <th>2</th>\n",
       "      <td>Xie</td>\n",
       "      <td>Siqi</td>\n",
       "      <td>ASR</td>\n",
       "    </tr>\n",
       "    <tr>\n",
       "      <th>3</th>\n",
       "      <td>Nemi</td>\n",
       "      <td>JA</td>\n",
       "      <td>ARI</td>\n",
       "    </tr>\n",
       "    <tr>\n",
       "      <th>4</th>\n",
       "      <td>Yankam</td>\n",
       "      <td>Kevin</td>\n",
       "      <td>ARI</td>\n",
       "    </tr>\n",
       "    <tr>\n",
       "      <th>5</th>\n",
       "      <td>Thiam</td>\n",
       "      <td>Oulimatou</td>\n",
       "      <td>ARI</td>\n",
       "    </tr>\n",
       "  </tbody>\n",
       "</table>\n",
       "</div>"
      ],
      "text/plain": [
       "      Nom     Prenom cdeDominante\n",
       "0   Mahut      Youri         BDTN\n",
       "1  Congyi        Shi          ISN\n",
       "2     Xie       Siqi          ASR\n",
       "3    Nemi         JA          ARI\n",
       "4  Yankam      Kevin          ARI\n",
       "5   Thiam  Oulimatou          ARI"
      ]
     },
     "execution_count": 47,
     "metadata": {},
     "output_type": "execute_result"
    }
   ],
   "source": [
    "dfPing = pd.DataFrame([])\n",
    "dfPing['Nom'] = (['Mahut','Congyi','Xie','Nemi','Yankam','Thiam'])\n",
    "\n",
    "dfPing['Prenom'] = (['Youri','Shi','Siqi','JA','Kevin','Oulimatou'])\n",
    "dfPing['cdeDominante'] = (['BDTN','ISN','ASR','ARI','ARI','ARI'])\n",
    "dfPing"
   ]
  },
  {
   "cell_type": "markdown",
   "metadata": {},
   "source": [
    "Création d'un dataframe contenant le pourcentage d'élèves par département pour le ping"
   ]
  },
  {
   "cell_type": "code",
   "execution_count": 90,
   "metadata": {
    "collapsed": false
   },
   "outputs": [
    {
     "name": "stdout",
     "output_type": "stream",
     "text": [
      "[1, 1, 0, 1, 0, 3, 0, 0, 0, 0, 0, 0, 0, 0, 0]\n"
     ]
    },
    {
     "data": {
      "text/plain": [
       "countDom    4\n",
       "dtype: int64"
      ]
     },
     "execution_count": 90,
     "metadata": {},
     "output_type": "execute_result"
    }
   ],
   "source": [
    "res=[]\n",
    "i =0\n",
    "j=0\n",
    "for dom in sdomf.index:\n",
    "    res.append(dfPing[dfPing.cdeDominante==dom].count().cdeDominante)\n",
    "    i+=1\n",
    "print(res)\n",
    "\n",
    "res = pd.DataFrame({'countDom' : res}, index = sdomf.index)\n",
    "tmp = pd.DataFrame()\n",
    "tmp = res[res.countDom > 0].count()\n",
    "tmp\n"
   ]
  },
  {
   "cell_type": "code",
   "execution_count": 95,
   "metadata": {
    "collapsed": false
   },
   "outputs": [
    {
     "data": {
      "text/plain": [
       "',Nom,Prenom,cdeDominante\\n0,Mahut,Youri,BDTN\\n1,Congyi,Shi,ISN\\n2,Xie,Siqi,ASR\\n3,Nemi,JA,ARI\\n4,Yankam,Kevin,ARI\\n5,Thiam,Oulimatou,ARI\\n'"
      ]
     },
     "execution_count": 95,
     "metadata": {},
     "output_type": "execute_result"
    }
   ],
   "source": [
    "dfPing.to_csv(sep=',', na_rep='')"
   ]
  }
 ],
 "metadata": {
  "kernelspec": {
   "display_name": "Python [default]",
   "language": "python",
   "name": "python3"
  },
  "language_info": {
   "codemirror_mode": {
    "name": "ipython",
    "version": 3
   },
   "file_extension": ".py",
   "mimetype": "text/x-python",
   "name": "python",
   "nbconvert_exporter": "python",
   "pygments_lexer": "ipython3",
   "version": "3.5.2"
  }
 },
 "nbformat": 4,
 "nbformat_minor": 1
}
