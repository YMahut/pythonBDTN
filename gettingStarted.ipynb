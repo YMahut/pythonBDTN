{
 "cells": [
  {
   "cell_type": "markdown",
   "metadata": {},
   "source": [
    "# Pourquoi Python ?\n",
    "\n",
    "* Langage généraliste (vs R : langage spécialisé pour les statisticiens)\n",
    "* Librairie spécialisée pour la data science (SciPy)\n",
    "* Langage de premier ordre pour Apache Spark (Big Data processing)"
   ]
  },
  {
   "cell_type": "markdown",
   "metadata": {},
   "source": [
    "## Getting started in 10 minutes\n",
    "\n",
    "https://www.stavros.io/tutorials/python/\n",
    "    \n",
    "\n",
    "## MOOC Coursera\n",
    "\n",
    "https://www.coursera.org/learn/python-data-analysis"
   ]
  },
  {
   "cell_type": "markdown",
   "metadata": {},
   "source": [
    "## Points clés\n",
    "\n",
    "### En général \n",
    "\n",
    "* Les blocs sont délimités par des espaces, pas par des accolades\n",
    "* pas de ; les instructions sont délimitées par les retours chariots\n",
    "\n",
    "### Types de données\n",
    "\n",
    "* Typage fort : pas de conversion automatique entre valeurs de types différents\n",
    "* Dynamique : le type est associé à la valeur, pas à la variable\n",
    "* https://wiki.python.org/moin/Why%20is%20Python%20a%20dynamic%20language%20and%20also%20a%20strongly%20typed%20language\n",
    "\n"
   ]
  },
  {
   "cell_type": "code",
   "execution_count": 8,
   "metadata": {
    "collapsed": false
   },
   "outputs": [
    {
     "ename": "TypeError",
     "evalue": "Can't convert 'int' object to str implicitly",
     "output_type": "error",
     "traceback": [
      "\u001b[0;31m---------------------------------------------------------------------------\u001b[0m",
      "\u001b[0;31mTypeError\u001b[0m                                 Traceback (most recent call last)",
      "\u001b[0;32m<ipython-input-8-66bca7e04cb1>\u001b[0m in \u001b[0;36m<module>\u001b[0;34m()\u001b[0m\n\u001b[0;32m----> 1\u001b[0;31m \u001b[0;34m\"3\"\u001b[0m \u001b[0;34m+\u001b[0m \u001b[0;36m3\u001b[0m\u001b[0;34m\u001b[0m\u001b[0m\n\u001b[0m",
      "\u001b[0;31mTypeError\u001b[0m: Can't convert 'int' object to str implicitly"
     ]
    }
   ],
   "source": [
    "\"3\" + 3\n"
   ]
  },
  {
   "cell_type": "code",
   "execution_count": 9,
   "metadata": {
    "collapsed": false
   },
   "outputs": [
    {
     "data": {
      "text/plain": [
       "'33'"
      ]
     },
     "execution_count": 9,
     "metadata": {},
     "output_type": "execute_result"
    }
   ],
   "source": [
    "\"3\" + str(3)"
   ]
  },
  {
   "cell_type": "code",
   "execution_count": 12,
   "metadata": {
    "collapsed": false
   },
   "outputs": [
    {
     "data": {
      "text/plain": [
       "6"
      ]
     },
     "execution_count": 12,
     "metadata": {},
     "output_type": "execute_result"
    }
   ],
   "source": [
    "int(\"3\")+3"
   ]
  },
  {
   "cell_type": "markdown",
   "metadata": {},
   "source": [
    "\n",
    "\n",
    "### Spécificité des fonctions en Python\n",
    "\n",
    "* Le type de la valeur de retour n'est pas spécifiée\n",
    "* None indique une valeur absente\n",
    "* Les paramètres peuvent prendre une valeur par défaut"
   ]
  },
  {
   "cell_type": "code",
   "execution_count": 13,
   "metadata": {
    "collapsed": false
   },
   "outputs": [
    {
     "name": "stdout",
     "output_type": "stream",
     "text": [
      "3\n",
      "6\n"
     ]
    }
   ],
   "source": [
    "def somme(x,y,z=None):\n",
    "    if (z==None):\n",
    "        return x+y\n",
    "    else:\n",
    "        return x+y+z\n",
    "\n",
    "print(somme(1, 2))\n",
    "print(somme(1, 2, 3))"
   ]
  },
  {
   "cell_type": "markdown",
   "metadata": {},
   "source": [
    "# Structures de données de la librairie standard"
   ]
  },
  {
   "cell_type": "markdown",
   "metadata": {},
   "source": [
    "## Video de référence (partie I)\n",
    "\n",
    "http://pyvideo.org/pycon-us-2011/pycon-2011--the-data-structures-of-python.html\n",
    "\n",
    "* listes (list)\n",
    "* tuples (tuple)\n",
    "* dictionnaires (dict)\n",
    "* ensembles (set)\n",
    "* ensembles immuables (frozenset)\n",
    "\n",
    "## Complexité des algorithmes (par ordre croissant)\n",
    "\n",
    "* $O(1)$ : durée constante, indépendante du nombre d'éléments\n",
    "* $O(log(n))$ : croissance logarithmique\n",
    "* $O(n log(n))$ : croissance linéarithmique\n",
    "* $O((log(n))^c)$ :\t\tpolylogarithmic\n",
    "* $O(n)$ : linéaire\n",
    "* $O(n^2)$ : quadratique\n",
    "* $O(n^c)$ : polynomiale\n",
    "* $O(c^n)$ : exponentielle\n",
    "* $O(n!)$ : factorielle\n"
   ]
  }
 ],
 "metadata": {
  "anaconda-cloud": {},
  "kernelspec": {
   "display_name": "Python [default]",
   "language": "python",
   "name": "python3"
  },
  "language_info": {
   "codemirror_mode": {
    "name": "ipython",
    "version": 3
   },
   "file_extension": ".py",
   "mimetype": "text/x-python",
   "name": "python",
   "nbconvert_exporter": "python",
   "pygments_lexer": "ipython3",
   "version": "3.5.2"
  }
 },
 "nbformat": 4,
 "nbformat_minor": 1
}
